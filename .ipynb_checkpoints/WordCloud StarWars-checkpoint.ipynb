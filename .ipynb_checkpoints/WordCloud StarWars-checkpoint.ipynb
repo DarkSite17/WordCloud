{
 "cells": [
  {
   "cell_type": "code",
   "execution_count": 7,
   "metadata": {},
   "outputs": [],
   "source": [
    "import random\n",
    "from os import path\n",
    "import numpy as np\n",
    "from PIL import Image\n",
    "from wordcloud import STOPWORDS, WordCloud\n"
   ]
  },
  {
   "cell_type": "code",
   "execution_count": 8,
   "metadata": {},
   "outputs": [],
   "source": [
    "def grey_color_func(\n",
    "    word, font_size, position, orientation, random_state=None, **kwargs\n",
    "):\n",
    "    return \"hsl(0, 0%%, %d%%)\" % random.randint(60, 100)\n",
    "\n",
    "#Load Files: Text and Image\n",
    "sw_mask = np.array(Image.open(path.join(\"stormtrooper_mask.png\")))\n",
    "text = open(\"a_new_hope.txt\").read()\n"
   ]
  },
  {
   "cell_type": "code",
   "execution_count": 12,
   "metadata": {},
   "outputs": [],
   "source": [
    "# Preprocessing to cleanup the text\n",
    "text = text.replace(\"HAN\", \"Han\")\n",
    "text = text.replace(\"LUKE'S\", \"Luke\")\n",
    "text = text.replace(\"Lukes\", \"Luke\")\n",
    "\n",
    "# Add movie script specific stopwords\n",
    "stopwords = STOPWORDS.copy()\n",
    "stopwords.add(\"int\")\n",
    "stopwords.add(\"ext\")\n"
   ]
  },
  {
   "cell_type": "code",
   "execution_count": 13,
   "metadata": {},
   "outputs": [],
   "source": [
    "# Setup and generate word cloud\n",
    "wc = WordCloud(\n",
    "    max_words=10000, mask=sw_mask, stopwords=stopwords, margin=10, random_state=1\n",
    ").generate(text)\n",
    "\n",
    "# Store default colored image, recolor, and save\n",
    "default_colors = wc.to_array()\n",
    "wc.recolor(color_func=grey_color_func, random_state=3)\n",
    "wc.to_file(\"a_new_hope.png\")\n",
    "\n",
    "# Display the generated wordcloud image using pillow\n",
    "image = wc.to_image()\n",
    "image.show()"
   ]
  },
  {
   "cell_type": "code",
   "execution_count": null,
   "metadata": {},
   "outputs": [],
   "source": []
  },
  {
   "cell_type": "code",
   "execution_count": null,
   "metadata": {},
   "outputs": [],
   "source": []
  }
 ],
 "metadata": {
  "kernelspec": {
   "display_name": "Python 3",
   "language": "python",
   "name": "python3"
  },
  "language_info": {
   "codemirror_mode": {
    "name": "ipython",
    "version": 3
   },
   "file_extension": ".py",
   "mimetype": "text/x-python",
   "name": "python",
   "nbconvert_exporter": "python",
   "pygments_lexer": "ipython3",
   "version": "3.7.7"
  }
 },
 "nbformat": 4,
 "nbformat_minor": 4
}
